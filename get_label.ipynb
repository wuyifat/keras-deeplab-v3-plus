{
 "cells": [
  {
   "cell_type": "code",
   "execution_count": null,
   "metadata": {},
   "outputs": [
    {
     "name": "stderr",
     "output_type": "stream",
     "text": [
      "Using TensorFlow backend.\n"
     ]
    },
    {
     "name": "stdout",
     "output_type": "stream",
     "text": [
      "Downloading data from https://github.com/bonlime/keras-deeplab-v3-plus/releases/download/1.1/deeplabv3_xception_tf_dim_ordering_tf_kernels.h5\n",
      "166100992/166096424 [==============================] - 23s 0us/step\n"
     ]
    }
   ],
   "source": [
    "from matplotlib import pyplot as plt\n",
    "import cv2 # used for resize. if you dont have it, use anything else\n",
    "import numpy as np\n",
    "from model import Deeplabv3\n",
    "%matplotlib inline\n",
    "\n",
    "deeplab_model = Deeplabv3(backbone='xception',OS=16)\n",
    "img = plt.imread(\"imgs/image1.jpg\")\n",
    "w, h, _ = img.shape\n",
    "ratio = 512. / np.max([w,h])\n",
    "resized = cv2.resize(img,(int(ratio*h),int(ratio*w)))\n",
    "resized = resized / 127.5 - 1.\n",
    "pad_x = int(512 - resized.shape[0])\n",
    "resized2 = np.pad(resized,((0,pad_x),(0,0),(0,0)),mode='constant')\n",
    "res = deeplab_model.predict(np.expand_dims(resized2,0))\n",
    "labels = np.argmax(res.squeeze(),-1)\n",
    "plt.imshow(labels[:-pad_x])"
   ]
  },
  {
   "cell_type": "code",
   "execution_count": null,
   "metadata": {
    "collapsed": true
   },
   "outputs": [],
   "source": []
  }
 ],
 "metadata": {
  "kernelspec": {
   "display_name": "Python 3",
   "language": "python",
   "name": "python3"
  },
  "language_info": {
   "codemirror_mode": {
    "name": "ipython",
    "version": 3
   },
   "file_extension": ".py",
   "mimetype": "text/x-python",
   "name": "python",
   "nbconvert_exporter": "python",
   "pygments_lexer": "ipython3",
   "version": "3.6.3"
  }
 },
 "nbformat": 4,
 "nbformat_minor": 2
}
